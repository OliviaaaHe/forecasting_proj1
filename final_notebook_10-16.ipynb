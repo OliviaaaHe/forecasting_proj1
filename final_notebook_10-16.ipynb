{
 "cells": [
  {
   "cell_type": "markdown",
   "id": "94220110",
   "metadata": {},
   "source": [
    "## I Load the data"
   ]
  },
  {
   "cell_type": "code",
   "execution_count": 1,
   "id": "4b1faf0e",
   "metadata": {},
   "outputs": [],
   "source": [
    "import pandas as pd\n",
    "import matplotlib.pyplot as plt\n",
    "import numpy as np\n",
    "import warnings\n",
    "warnings.filterwarnings('ignore')\n",
    "\n",
    "df1 = pd.read_excel('online_retail_II.xlsx', sheet_name='Year 2009-2010')\n",
    "df2 = pd.read_excel('online_retail_II.xlsx', sheet_name='Year 2010-2011')\n",
    "\n",
    "data = pd.concat([df1, df2])"
   ]
  },
  {
   "cell_type": "markdown",
   "id": "adebc0eb",
   "metadata": {},
   "source": [
    "## II Preprocessing"
   ]
  },
  {
   "cell_type": "code",
   "execution_count": 2,
   "id": "aa275ab2",
   "metadata": {},
   "outputs": [
    {
     "data": {
      "text/html": [
       "<div>\n",
       "<style scoped>\n",
       "    .dataframe tbody tr th:only-of-type {\n",
       "        vertical-align: middle;\n",
       "    }\n",
       "\n",
       "    .dataframe tbody tr th {\n",
       "        vertical-align: top;\n",
       "    }\n",
       "\n",
       "    .dataframe thead th {\n",
       "        text-align: right;\n",
       "    }\n",
       "</style>\n",
       "<table border=\"1\" class=\"dataframe\">\n",
       "  <thead>\n",
       "    <tr style=\"text-align: right;\">\n",
       "      <th></th>\n",
       "      <th>Sales</th>\n",
       "    </tr>\n",
       "    <tr>\n",
       "      <th>InvoiceDay</th>\n",
       "      <th></th>\n",
       "    </tr>\n",
       "  </thead>\n",
       "  <tbody>\n",
       "    <tr>\n",
       "      <th>2009-12-01</th>\n",
       "      <td>53173.03</td>\n",
       "    </tr>\n",
       "    <tr>\n",
       "      <th>2009-12-02</th>\n",
       "      <td>62763.59</td>\n",
       "    </tr>\n",
       "    <tr>\n",
       "      <th>2009-12-03</th>\n",
       "      <td>68093.05</td>\n",
       "    </tr>\n",
       "    <tr>\n",
       "      <th>2009-12-04</th>\n",
       "      <td>40346.40</td>\n",
       "    </tr>\n",
       "    <tr>\n",
       "      <th>2009-12-05</th>\n",
       "      <td>9803.05</td>\n",
       "    </tr>\n",
       "    <tr>\n",
       "      <th>...</th>\n",
       "      <td>...</td>\n",
       "    </tr>\n",
       "    <tr>\n",
       "      <th>2011-12-05</th>\n",
       "      <td>57751.32</td>\n",
       "    </tr>\n",
       "    <tr>\n",
       "      <th>2011-12-06</th>\n",
       "      <td>54228.37</td>\n",
       "    </tr>\n",
       "    <tr>\n",
       "      <th>2011-12-07</th>\n",
       "      <td>75076.22</td>\n",
       "    </tr>\n",
       "    <tr>\n",
       "      <th>2011-12-08</th>\n",
       "      <td>81417.78</td>\n",
       "    </tr>\n",
       "    <tr>\n",
       "      <th>2011-12-09</th>\n",
       "      <td>32149.53</td>\n",
       "    </tr>\n",
       "  </tbody>\n",
       "</table>\n",
       "<p>604 rows × 1 columns</p>\n",
       "</div>"
      ],
      "text/plain": [
       "               Sales\n",
       "InvoiceDay          \n",
       "2009-12-01  53173.03\n",
       "2009-12-02  62763.59\n",
       "2009-12-03  68093.05\n",
       "2009-12-04  40346.40\n",
       "2009-12-05   9803.05\n",
       "...              ...\n",
       "2011-12-05  57751.32\n",
       "2011-12-06  54228.37\n",
       "2011-12-07  75076.22\n",
       "2011-12-08  81417.78\n",
       "2011-12-09  32149.53\n",
       "\n",
       "[604 rows x 1 columns]"
      ]
     },
     "execution_count": 2,
     "metadata": {},
     "output_type": "execute_result"
    }
   ],
   "source": [
    "data['Customer ID'].fillna(-1,inplace=True)\n",
    "data['InvoiceDate'] = pd.to_datetime(data['InvoiceDate'],format='%m/%d/%Y %H:%M')\n",
    "data['Invoice']=data['Invoice'].astype(str)\n",
    "\n",
    "data['Sales']=data['Price']*data['Quantity']\n",
    "\n",
    "data['InvoiceDay'] = data['InvoiceDate'].dt.date\n",
    "\n",
    "daily_sales=data[['Sales','InvoiceDay']].groupby('InvoiceDay').sum()\n",
    "daily_sales"
   ]
  },
  {
   "cell_type": "markdown",
   "id": "9c8ee0d9",
   "metadata": {},
   "source": [
    "## III Add exogenuous variables"
   ]
  },
  {
   "cell_type": "markdown",
   "id": "120add47",
   "metadata": {},
   "source": [
    "### a) Month number"
   ]
  },
  {
   "cell_type": "code",
   "execution_count": 3,
   "id": "6528f2cd",
   "metadata": {},
   "outputs": [],
   "source": [
    "df = daily_sales.copy()\n",
    "df['month'] = [df.index[i].month for i in range(len(df))]\n",
    "df=pd.get_dummies(df['month'])\n",
    "\n",
    "daily_sales = daily_sales.join(df)"
   ]
  },
  {
   "cell_type": "markdown",
   "id": "f7d7f94c",
   "metadata": {},
   "source": [
    "### b) Day of the week"
   ]
  },
  {
   "cell_type": "code",
   "execution_count": 4,
   "id": "2dce3a3f",
   "metadata": {},
   "outputs": [],
   "source": [
    "df['weekday'] = [df.index[i].strftime('%A') for i in range(len(df))]\n",
    "df=pd.get_dummies(df['weekday'])\n",
    "\n",
    "daily_sales = daily_sales.join(df)"
   ]
  },
  {
   "cell_type": "code",
   "execution_count": 5,
   "id": "cea79d5c",
   "metadata": {},
   "outputs": [],
   "source": [
    "daily_sales = daily_sales.reset_index()\n",
    "\n",
    "daily_sales = daily_sales.rename(columns={\n",
    "    'Sales':'y',\n",
    "    'InvoiceDay':'ds'\n",
    "})\n",
    "daily_sales = daily_sales.rename(columns={\n",
    "    i:str(i) for i in range(1,13)\n",
    "})"
   ]
  },
  {
   "cell_type": "markdown",
   "id": "b729f815",
   "metadata": {},
   "source": [
    "### c) time from start day"
   ]
  },
  {
   "cell_type": "code",
   "execution_count": 8,
   "id": "5bbe9051",
   "metadata": {},
   "outputs": [],
   "source": [
    "daily_sales['time'] = (daily_sales['ds'] - min(daily_sales['ds'])).astype('timedelta64[D]').astype(int)"
   ]
  },
  {
   "cell_type": "code",
   "execution_count": 9,
   "id": "3ad4a4f2",
   "metadata": {},
   "outputs": [
    {
     "data": {
      "text/html": [
       "<div>\n",
       "<style scoped>\n",
       "    .dataframe tbody tr th:only-of-type {\n",
       "        vertical-align: middle;\n",
       "    }\n",
       "\n",
       "    .dataframe tbody tr th {\n",
       "        vertical-align: top;\n",
       "    }\n",
       "\n",
       "    .dataframe thead th {\n",
       "        text-align: right;\n",
       "    }\n",
       "</style>\n",
       "<table border=\"1\" class=\"dataframe\">\n",
       "  <thead>\n",
       "    <tr style=\"text-align: right;\">\n",
       "      <th></th>\n",
       "      <th>ds</th>\n",
       "      <th>y</th>\n",
       "      <th>1</th>\n",
       "      <th>2</th>\n",
       "      <th>3</th>\n",
       "      <th>4</th>\n",
       "      <th>5</th>\n",
       "      <th>6</th>\n",
       "      <th>7</th>\n",
       "      <th>8</th>\n",
       "      <th>...</th>\n",
       "      <th>11</th>\n",
       "      <th>12</th>\n",
       "      <th>Friday</th>\n",
       "      <th>Monday</th>\n",
       "      <th>Saturday</th>\n",
       "      <th>Sunday</th>\n",
       "      <th>Thursday</th>\n",
       "      <th>Tuesday</th>\n",
       "      <th>Wednesday</th>\n",
       "      <th>time</th>\n",
       "    </tr>\n",
       "  </thead>\n",
       "  <tbody>\n",
       "    <tr>\n",
       "      <th>0</th>\n",
       "      <td>2009-12-01</td>\n",
       "      <td>53173.03</td>\n",
       "      <td>0</td>\n",
       "      <td>0</td>\n",
       "      <td>0</td>\n",
       "      <td>0</td>\n",
       "      <td>0</td>\n",
       "      <td>0</td>\n",
       "      <td>0</td>\n",
       "      <td>0</td>\n",
       "      <td>...</td>\n",
       "      <td>0</td>\n",
       "      <td>1</td>\n",
       "      <td>0</td>\n",
       "      <td>0</td>\n",
       "      <td>0</td>\n",
       "      <td>0</td>\n",
       "      <td>0</td>\n",
       "      <td>1</td>\n",
       "      <td>0</td>\n",
       "      <td>0</td>\n",
       "    </tr>\n",
       "    <tr>\n",
       "      <th>1</th>\n",
       "      <td>2009-12-02</td>\n",
       "      <td>62763.59</td>\n",
       "      <td>0</td>\n",
       "      <td>0</td>\n",
       "      <td>0</td>\n",
       "      <td>0</td>\n",
       "      <td>0</td>\n",
       "      <td>0</td>\n",
       "      <td>0</td>\n",
       "      <td>0</td>\n",
       "      <td>...</td>\n",
       "      <td>0</td>\n",
       "      <td>1</td>\n",
       "      <td>0</td>\n",
       "      <td>0</td>\n",
       "      <td>0</td>\n",
       "      <td>0</td>\n",
       "      <td>0</td>\n",
       "      <td>0</td>\n",
       "      <td>1</td>\n",
       "      <td>1</td>\n",
       "    </tr>\n",
       "    <tr>\n",
       "      <th>2</th>\n",
       "      <td>2009-12-03</td>\n",
       "      <td>68093.05</td>\n",
       "      <td>0</td>\n",
       "      <td>0</td>\n",
       "      <td>0</td>\n",
       "      <td>0</td>\n",
       "      <td>0</td>\n",
       "      <td>0</td>\n",
       "      <td>0</td>\n",
       "      <td>0</td>\n",
       "      <td>...</td>\n",
       "      <td>0</td>\n",
       "      <td>1</td>\n",
       "      <td>0</td>\n",
       "      <td>0</td>\n",
       "      <td>0</td>\n",
       "      <td>0</td>\n",
       "      <td>1</td>\n",
       "      <td>0</td>\n",
       "      <td>0</td>\n",
       "      <td>2</td>\n",
       "    </tr>\n",
       "    <tr>\n",
       "      <th>3</th>\n",
       "      <td>2009-12-04</td>\n",
       "      <td>40346.40</td>\n",
       "      <td>0</td>\n",
       "      <td>0</td>\n",
       "      <td>0</td>\n",
       "      <td>0</td>\n",
       "      <td>0</td>\n",
       "      <td>0</td>\n",
       "      <td>0</td>\n",
       "      <td>0</td>\n",
       "      <td>...</td>\n",
       "      <td>0</td>\n",
       "      <td>1</td>\n",
       "      <td>1</td>\n",
       "      <td>0</td>\n",
       "      <td>0</td>\n",
       "      <td>0</td>\n",
       "      <td>0</td>\n",
       "      <td>0</td>\n",
       "      <td>0</td>\n",
       "      <td>3</td>\n",
       "    </tr>\n",
       "    <tr>\n",
       "      <th>4</th>\n",
       "      <td>2009-12-05</td>\n",
       "      <td>9803.05</td>\n",
       "      <td>0</td>\n",
       "      <td>0</td>\n",
       "      <td>0</td>\n",
       "      <td>0</td>\n",
       "      <td>0</td>\n",
       "      <td>0</td>\n",
       "      <td>0</td>\n",
       "      <td>0</td>\n",
       "      <td>...</td>\n",
       "      <td>0</td>\n",
       "      <td>1</td>\n",
       "      <td>0</td>\n",
       "      <td>0</td>\n",
       "      <td>1</td>\n",
       "      <td>0</td>\n",
       "      <td>0</td>\n",
       "      <td>0</td>\n",
       "      <td>0</td>\n",
       "      <td>4</td>\n",
       "    </tr>\n",
       "    <tr>\n",
       "      <th>...</th>\n",
       "      <td>...</td>\n",
       "      <td>...</td>\n",
       "      <td>...</td>\n",
       "      <td>...</td>\n",
       "      <td>...</td>\n",
       "      <td>...</td>\n",
       "      <td>...</td>\n",
       "      <td>...</td>\n",
       "      <td>...</td>\n",
       "      <td>...</td>\n",
       "      <td>...</td>\n",
       "      <td>...</td>\n",
       "      <td>...</td>\n",
       "      <td>...</td>\n",
       "      <td>...</td>\n",
       "      <td>...</td>\n",
       "      <td>...</td>\n",
       "      <td>...</td>\n",
       "      <td>...</td>\n",
       "      <td>...</td>\n",
       "      <td>...</td>\n",
       "    </tr>\n",
       "    <tr>\n",
       "      <th>599</th>\n",
       "      <td>2011-12-05</td>\n",
       "      <td>57751.32</td>\n",
       "      <td>0</td>\n",
       "      <td>0</td>\n",
       "      <td>0</td>\n",
       "      <td>0</td>\n",
       "      <td>0</td>\n",
       "      <td>0</td>\n",
       "      <td>0</td>\n",
       "      <td>0</td>\n",
       "      <td>...</td>\n",
       "      <td>0</td>\n",
       "      <td>1</td>\n",
       "      <td>0</td>\n",
       "      <td>1</td>\n",
       "      <td>0</td>\n",
       "      <td>0</td>\n",
       "      <td>0</td>\n",
       "      <td>0</td>\n",
       "      <td>0</td>\n",
       "      <td>734</td>\n",
       "    </tr>\n",
       "    <tr>\n",
       "      <th>600</th>\n",
       "      <td>2011-12-06</td>\n",
       "      <td>54228.37</td>\n",
       "      <td>0</td>\n",
       "      <td>0</td>\n",
       "      <td>0</td>\n",
       "      <td>0</td>\n",
       "      <td>0</td>\n",
       "      <td>0</td>\n",
       "      <td>0</td>\n",
       "      <td>0</td>\n",
       "      <td>...</td>\n",
       "      <td>0</td>\n",
       "      <td>1</td>\n",
       "      <td>0</td>\n",
       "      <td>0</td>\n",
       "      <td>0</td>\n",
       "      <td>0</td>\n",
       "      <td>0</td>\n",
       "      <td>1</td>\n",
       "      <td>0</td>\n",
       "      <td>735</td>\n",
       "    </tr>\n",
       "    <tr>\n",
       "      <th>601</th>\n",
       "      <td>2011-12-07</td>\n",
       "      <td>75076.22</td>\n",
       "      <td>0</td>\n",
       "      <td>0</td>\n",
       "      <td>0</td>\n",
       "      <td>0</td>\n",
       "      <td>0</td>\n",
       "      <td>0</td>\n",
       "      <td>0</td>\n",
       "      <td>0</td>\n",
       "      <td>...</td>\n",
       "      <td>0</td>\n",
       "      <td>1</td>\n",
       "      <td>0</td>\n",
       "      <td>0</td>\n",
       "      <td>0</td>\n",
       "      <td>0</td>\n",
       "      <td>0</td>\n",
       "      <td>0</td>\n",
       "      <td>1</td>\n",
       "      <td>736</td>\n",
       "    </tr>\n",
       "    <tr>\n",
       "      <th>602</th>\n",
       "      <td>2011-12-08</td>\n",
       "      <td>81417.78</td>\n",
       "      <td>0</td>\n",
       "      <td>0</td>\n",
       "      <td>0</td>\n",
       "      <td>0</td>\n",
       "      <td>0</td>\n",
       "      <td>0</td>\n",
       "      <td>0</td>\n",
       "      <td>0</td>\n",
       "      <td>...</td>\n",
       "      <td>0</td>\n",
       "      <td>1</td>\n",
       "      <td>0</td>\n",
       "      <td>0</td>\n",
       "      <td>0</td>\n",
       "      <td>0</td>\n",
       "      <td>1</td>\n",
       "      <td>0</td>\n",
       "      <td>0</td>\n",
       "      <td>737</td>\n",
       "    </tr>\n",
       "    <tr>\n",
       "      <th>603</th>\n",
       "      <td>2011-12-09</td>\n",
       "      <td>32149.53</td>\n",
       "      <td>0</td>\n",
       "      <td>0</td>\n",
       "      <td>0</td>\n",
       "      <td>0</td>\n",
       "      <td>0</td>\n",
       "      <td>0</td>\n",
       "      <td>0</td>\n",
       "      <td>0</td>\n",
       "      <td>...</td>\n",
       "      <td>0</td>\n",
       "      <td>1</td>\n",
       "      <td>1</td>\n",
       "      <td>0</td>\n",
       "      <td>0</td>\n",
       "      <td>0</td>\n",
       "      <td>0</td>\n",
       "      <td>0</td>\n",
       "      <td>0</td>\n",
       "      <td>738</td>\n",
       "    </tr>\n",
       "  </tbody>\n",
       "</table>\n",
       "<p>604 rows × 22 columns</p>\n",
       "</div>"
      ],
      "text/plain": [
       "             ds         y  1  2  3  4  5  6  7  8  ...  11  12  Friday  \\\n",
       "0    2009-12-01  53173.03  0  0  0  0  0  0  0  0  ...   0   1       0   \n",
       "1    2009-12-02  62763.59  0  0  0  0  0  0  0  0  ...   0   1       0   \n",
       "2    2009-12-03  68093.05  0  0  0  0  0  0  0  0  ...   0   1       0   \n",
       "3    2009-12-04  40346.40  0  0  0  0  0  0  0  0  ...   0   1       1   \n",
       "4    2009-12-05   9803.05  0  0  0  0  0  0  0  0  ...   0   1       0   \n",
       "..          ...       ... .. .. .. .. .. .. .. ..  ...  ..  ..     ...   \n",
       "599  2011-12-05  57751.32  0  0  0  0  0  0  0  0  ...   0   1       0   \n",
       "600  2011-12-06  54228.37  0  0  0  0  0  0  0  0  ...   0   1       0   \n",
       "601  2011-12-07  75076.22  0  0  0  0  0  0  0  0  ...   0   1       0   \n",
       "602  2011-12-08  81417.78  0  0  0  0  0  0  0  0  ...   0   1       0   \n",
       "603  2011-12-09  32149.53  0  0  0  0  0  0  0  0  ...   0   1       1   \n",
       "\n",
       "     Monday  Saturday  Sunday  Thursday  Tuesday  Wednesday  time  \n",
       "0         0         0       0         0        1          0     0  \n",
       "1         0         0       0         0        0          1     1  \n",
       "2         0         0       0         1        0          0     2  \n",
       "3         0         0       0         0        0          0     3  \n",
       "4         0         1       0         0        0          0     4  \n",
       "..      ...       ...     ...       ...      ...        ...   ...  \n",
       "599       1         0       0         0        0          0   734  \n",
       "600       0         0       0         0        1          0   735  \n",
       "601       0         0       0         0        0          1   736  \n",
       "602       0         0       0         1        0          0   737  \n",
       "603       0         0       0         0        0          0   738  \n",
       "\n",
       "[604 rows x 22 columns]"
      ]
     },
     "execution_count": 9,
     "metadata": {},
     "output_type": "execute_result"
    }
   ],
   "source": [
    "daily_sales"
   ]
  },
  {
   "cell_type": "markdown",
   "id": "bee307a2",
   "metadata": {},
   "source": [
    "## IV Modelling"
   ]
  },
  {
   "cell_type": "markdown",
   "id": "498e829b",
   "metadata": {},
   "source": [
    "### Define the metrics and the sets"
   ]
  },
  {
   "cell_type": "code",
   "execution_count": 10,
   "id": "eaf64e44",
   "metadata": {},
   "outputs": [],
   "source": [
    "from sklearn.metrics import mean_squared_error, r2_score, mean_absolute_percentage_error\n",
    "\n",
    "def compute_metrics(real, predicted):\n",
    "    \n",
    "    rmse = mean_squared_error(real, predicted, squared=False)\n",
    "    r2 = r2_score(real, predicted)\n",
    "    mape = mean_absolute_percentage_error(real, predicted)\n",
    "    \n",
    "    return(rmse, r2,mape)\n",
    "\n",
    "train_set = int(len(daily_sales)*0.7)\n",
    "val_set = int(len(daily_sales)*0.1)\n",
    "dev = daily_sales.iloc[:train_set+val_set] \n",
    "train = daily_sales.iloc[:train_set] \n",
    "val = daily_sales.iloc[train_set:train_set+val_set]\n",
    "test = daily_sales.iloc[train_set+val_set:]"
   ]
  },
  {
   "cell_type": "markdown",
   "id": "584c01c8",
   "metadata": {},
   "source": [
    "### Create different models"
   ]
  },
  {
   "cell_type": "code",
   "execution_count": 11,
   "id": "7987815d",
   "metadata": {},
   "outputs": [
    {
     "name": "stderr",
     "output_type": "stream",
     "text": [
      "Importing plotly failed. Interactive plots will not work.\n"
     ]
    }
   ],
   "source": [
    "from sklearn.linear_model import ElasticNet\n",
    "from prophet import Prophet\n",
    "from xgboost import XGBRegressor\n",
    "from sklearn.ensemble import RandomForestRegressor\n",
    "from sklearn.preprocessing import PolynomialFeatures\n",
    "\n",
    "class LinModel:\n",
    "    \n",
    "    def __init__(self, alpha=0, l1_ratio=0):\n",
    "        self.model = ElasticNet(alpha=alpha, l1_ratio=l1_ratio)\n",
    "        \n",
    "    def fit(self, train):\n",
    "        X_train, y_train = train.drop(['y','ds'], axis=1), train['y']\n",
    "        #X_train = PolynomialFeatures(degree=2, interaction_only=True).fit_transform(X_train)\n",
    "        self.model = self.model.fit(X_train, y_train)\n",
    "    \n",
    "    def predict(self, test):\n",
    "        X_test = test.drop(['y','ds'], axis=1)\n",
    "        #X_test = PolynomialFeatures(degree=2, interaction_only=True).fit_transform(X_test)\n",
    "        preds = self.model.predict(X_test)\n",
    "        \n",
    "        return preds\n",
    "\n",
    "class XGBModel:\n",
    "    \n",
    "    def __init__(self, n_estimators=100, max_depth=5):\n",
    "        self.model = XGBRegressor(n_estimators = n_estimators, max_depth = max_depth)\n",
    "        \n",
    "    def fit(self, train):\n",
    "        X_train, y_train = train.drop(['y','ds'], axis=1), train['y']\n",
    "        self.model = self.model.fit(X_train, y_train)\n",
    "    \n",
    "    def predict(self, test):\n",
    "        X_test = test.drop(['y','ds'], axis=1)\n",
    "        preds = self.model.predict(X_test)\n",
    "        \n",
    "        return preds\n",
    "    \n",
    "class RFModel:\n",
    "    \n",
    "    def __init__(self, n_estimators=100, max_depth=5):\n",
    "        self.model = RandomForestRegressor(n_estimators=n_estimators, max_depth=max_depth)\n",
    "        \n",
    "    def fit(self, train):\n",
    "        X_train, y_train = train.drop(['y','ds'], axis=1), train['y']\n",
    "        self.model = self.model.fit(X_train, y_train)\n",
    "    \n",
    "    def predict(self, test):\n",
    "        X_test = test.drop(['y','ds'], axis=1)\n",
    "        preds = self.model.predict(X_test)\n",
    "        \n",
    "        return preds\n",
    "\n",
    "\n",
    "class ProphetModel:\n",
    "    \n",
    "    def __init__(self, changepoint_prior_scale=None, n_changepoints=None):\n",
    "        self.model = Prophet()\n",
    "        \n",
    "        if changepoint_prior_scale:\n",
    "            self.model.changepoint_prior_scale = changepoint_prior_scale\n",
    "        if n_changepoints:\n",
    "            self.model.n_changepoints = n_changepoints\n",
    "        \n",
    "        \n",
    "        for k in range(1,13):\n",
    "            self.model.add_regressor(str(k))\n",
    "        for day in ['Monday','Tuesday','Wednesday','Thursday','Friday','Saturday','Sunday']:\n",
    "            self.model.add_regressor(day)    \n",
    "\n",
    "        self.model.changepoint_prior_scale = i\n",
    "        self.model.n_changepoints = j\n",
    "        \n",
    "    def fit(self, train):\n",
    "        self.train = train\n",
    "        self.model = self.model.fit(train)\n",
    "    \n",
    "    def predict(self, test):\n",
    "        future = self.model.make_future_dataframe(periods=(max(test['ds'])-max(self.train['ds'])).days)\n",
    "        \n",
    "        for k in range(1,13):\n",
    "            future[str(k)] = [1 if future['ds'][l].month==k else 0 for l in range(len(future))]\n",
    "        for day in ['Monday','Tuesday','Wednesday','Thursday','Friday','Saturday','Sunday']:\n",
    "            future[day] = [1 if future['ds'][l].strftime('%A')==day else 0 for l in range(len(future))]  \n",
    "            \n",
    "        forecast = self.model.predict(future)\n",
    "        preds = forecast[forecast['ds'].isin(test['ds'])]['yhat']\n",
    "        \n",
    "        return preds"
   ]
  },
  {
   "cell_type": "code",
   "execution_count": 46,
   "id": "501992f1",
   "metadata": {},
   "outputs": [
    {
     "data": {
      "text/plain": [
       "0.30643060536752154"
      ]
     },
     "execution_count": 46,
     "metadata": {},
     "output_type": "execute_result"
    }
   ],
   "source": [
    "m=LinModel()\n",
    "m.fit(train)\n",
    "preds=m.predict(test)\n",
    "compute_metrics(test['y'], preds)[2]"
   ]
  },
  {
   "cell_type": "markdown",
   "id": "123a232d",
   "metadata": {},
   "source": [
    "### Hyperparameter Tuning"
   ]
  },
  {
   "cell_type": "markdown",
   "id": "a7eb90ec",
   "metadata": {},
   "source": [
    "#### Linear Model"
   ]
  },
  {
   "cell_type": "code",
   "execution_count": 53,
   "id": "bb47bf3c",
   "metadata": {},
   "outputs": [
    {
     "name": "stdout",
     "output_type": "stream",
     "text": [
      "the best parameters are (0.0, 0.0), for a MAPE of 0.36414578876628484 on validation set\n"
     ]
    }
   ],
   "source": [
    "# hyperparameters\n",
    "alpha = [i for i in np.arange(0,0.1,0.01)]\n",
    "l1_ratio = [i for i in np.arange(0,1,0.1)]\n",
    "\n",
    "mini = np.inf\n",
    "for a in alpha:\n",
    "    for l in l1_ratio:\n",
    "        \n",
    "        m = LinModel(a, l)\n",
    "        m.fit(train)\n",
    "        preds = m.predict(val)\n",
    "        \n",
    "        lin_metrics = compute_metrics(val['y'], preds)[2]\n",
    "        \n",
    "        if lin_metrics<mini:\n",
    "            mini = lin_metrics\n",
    "            best_params_lin = (a,l)\n",
    "            \n",
    "print(f'the best parameters are {best_params_lin}, for a MAPE of {mini} on validation set')"
   ]
  },
  {
   "cell_type": "markdown",
   "id": "8bdb71e7",
   "metadata": {},
   "source": [
    "#### Prophet"
   ]
  },
  {
   "cell_type": "code",
   "execution_count": 48,
   "id": "9a01083c",
   "metadata": {
    "scrolled": true
   },
   "outputs": [
    {
     "name": "stderr",
     "output_type": "stream",
     "text": [
      "INFO:prophet:Disabling yearly seasonality. Run prophet with yearly_seasonality=True to override this.\n",
      "INFO:prophet:Disabling daily seasonality. Run prophet with daily_seasonality=True to override this.\n"
     ]
    },
    {
     "name": "stdout",
     "output_type": "stream",
     "text": [
      "Initial log joint probability = -9.36042\n",
      "    Iter      log prob        ||dx||      ||grad||       alpha      alpha0  # evals  Notes \n",
      "      85       699.967    0.00295959       99.2173   3.174e-05       0.001      135  LS failed, Hessian reset \n",
      "      99       700.112   0.000141075       68.7891      0.6972      0.6972      153   \n",
      "    Iter      log prob        ||dx||      ||grad||       alpha      alpha0  # evals  Notes \n",
      "     155        700.13   2.81141e-08       72.5979      0.0487           1      240   \n",
      "Optimization terminated normally: \n",
      "  Convergence detected: relative gradient magnitude is below tolerance\n"
     ]
    },
    {
     "name": "stderr",
     "output_type": "stream",
     "text": [
      "INFO:prophet:Disabling yearly seasonality. Run prophet with yearly_seasonality=True to override this.\n",
      "INFO:prophet:Disabling daily seasonality. Run prophet with daily_seasonality=True to override this.\n"
     ]
    },
    {
     "name": "stdout",
     "output_type": "stream",
     "text": [
      "Initial log joint probability = -9.36042\n",
      "    Iter      log prob        ||dx||      ||grad||       alpha      alpha0  # evals  Notes \n",
      "      89       700.032    0.00294118       81.5129   2.904e-05       0.001      149  LS failed, Hessian reset \n",
      "      99       700.108   0.000132649       61.3086      0.2419      0.5489      161   \n",
      "    Iter      log prob        ||dx||      ||grad||       alpha      alpha0  # evals  Notes \n",
      "     121        700.14   2.56114e-05       49.3707   4.776e-07       0.001      221  LS failed, Hessian reset \n",
      "     148       700.141   4.63994e-06       66.8484   7.559e-08       0.001      298  LS failed, Hessian reset \n",
      "     164       700.141   3.42115e-09       42.1249     0.06974      0.2513      328   \n",
      "Optimization terminated normally: \n",
      "  Convergence detected: absolute parameter change was below tolerance\n"
     ]
    },
    {
     "name": "stderr",
     "output_type": "stream",
     "text": [
      "INFO:prophet:Disabling yearly seasonality. Run prophet with yearly_seasonality=True to override this.\n",
      "INFO:prophet:Disabling daily seasonality. Run prophet with daily_seasonality=True to override this.\n"
     ]
    },
    {
     "name": "stdout",
     "output_type": "stream",
     "text": [
      "Initial log joint probability = -9.36042\n",
      "    Iter      log prob        ||dx||      ||grad||       alpha      alpha0  # evals  Notes \n",
      "      99       700.068   0.000551139       84.7806           1           1      122   \n",
      "    Iter      log prob        ||dx||      ||grad||       alpha      alpha0  # evals  Notes \n",
      "     199        700.14   1.45893e-06       63.1164           1           1      254   \n",
      "    Iter      log prob        ||dx||      ||grad||       alpha      alpha0  # evals  Notes \n",
      "     213       700.141    4.8644e-06       67.1309   6.571e-08       0.001      311  LS failed, Hessian reset \n",
      "     226       700.141   1.48306e-08        74.609     0.05231           1      337   \n",
      "Optimization terminated normally: \n",
      "  Convergence detected: relative gradient magnitude is below tolerance\n"
     ]
    },
    {
     "name": "stderr",
     "output_type": "stream",
     "text": [
      "INFO:prophet:Disabling yearly seasonality. Run prophet with yearly_seasonality=True to override this.\n",
      "INFO:prophet:Disabling daily seasonality. Run prophet with daily_seasonality=True to override this.\n"
     ]
    },
    {
     "name": "stdout",
     "output_type": "stream",
     "text": [
      "Initial log joint probability = -9.36042\n",
      "    Iter      log prob        ||dx||      ||grad||       alpha      alpha0  # evals  Notes \n",
      "      72       699.282    0.00119202       102.557   1.016e-05       0.001      120  LS failed, Hessian reset \n",
      "      86       699.593     0.0011841       102.049   1.133e-05       0.001      170  LS failed, Hessian reset \n",
      "      99       699.678   0.000140113       62.5418      0.6845      0.6845      188   \n",
      "    Iter      log prob        ||dx||      ||grad||       alpha      alpha0  # evals  Notes \n",
      "     141       699.932    0.00064071       89.3685   5.138e-06       0.001      269  LS failed, Hessian reset \n",
      "     199       700.124   2.25529e-06       84.9457      0.5378      0.5378      339   \n",
      "    Iter      log prob        ||dx||      ||grad||       alpha      alpha0  # evals  Notes \n",
      "     253       700.142   6.60727e-09       80.6028   0.0005915           1      409   \n",
      "Optimization terminated normally: \n",
      "  Convergence detected: absolute parameter change was below tolerance\n"
     ]
    },
    {
     "name": "stderr",
     "output_type": "stream",
     "text": [
      "INFO:prophet:Disabling yearly seasonality. Run prophet with yearly_seasonality=True to override this.\n",
      "INFO:prophet:Disabling daily seasonality. Run prophet with daily_seasonality=True to override this.\n"
     ]
    },
    {
     "name": "stdout",
     "output_type": "stream",
     "text": [
      "Initial log joint probability = -9.36042\n",
      "    Iter      log prob        ||dx||      ||grad||       alpha      alpha0  # evals  Notes \n",
      "      99       699.539   5.40147e-05       113.603      0.5275      0.5275      122   \n",
      "    Iter      log prob        ||dx||      ||grad||       alpha      alpha0  # evals  Notes \n",
      "     161       700.149   3.72983e-05       64.3057   6.226e-07       0.001      248  LS failed, Hessian reset \n",
      "     175        700.15   2.44962e-07       43.8275   5.243e-09       0.001      306  LS failed, Hessian reset \n",
      "     185        700.15   5.21219e-09       37.1362     0.03433           1      326   \n",
      "Optimization terminated normally: \n",
      "  Convergence detected: absolute parameter change was below tolerance\n"
     ]
    },
    {
     "name": "stderr",
     "output_type": "stream",
     "text": [
      "INFO:prophet:Disabling yearly seasonality. Run prophet with yearly_seasonality=True to override this.\n",
      "INFO:prophet:Disabling daily seasonality. Run prophet with daily_seasonality=True to override this.\n"
     ]
    },
    {
     "name": "stdout",
     "output_type": "stream",
     "text": [
      "Initial log joint probability = -9.36042\n",
      "    Iter      log prob        ||dx||      ||grad||       alpha      alpha0  # evals  Notes \n",
      "      82       700.053    0.00272902       70.3581   3.549e-05       0.001      136  LS failed, Hessian reset \n",
      "      99       700.186   9.67036e-05       39.8518           1           1      160   \n",
      "    Iter      log prob        ||dx||      ||grad||       alpha      alpha0  # evals  Notes \n",
      "     122       700.203   2.12555e-05       54.8032   4.329e-07       0.001      222  LS failed, Hessian reset \n",
      "     158       700.206   4.30118e-09       37.2126    0.005264           1      282   \n",
      "Optimization terminated normally: \n",
      "  Convergence detected: absolute parameter change was below tolerance\n"
     ]
    },
    {
     "name": "stderr",
     "output_type": "stream",
     "text": [
      "INFO:prophet:Disabling yearly seasonality. Run prophet with yearly_seasonality=True to override this.\n",
      "INFO:prophet:Disabling daily seasonality. Run prophet with daily_seasonality=True to override this.\n"
     ]
    },
    {
     "name": "stdout",
     "output_type": "stream",
     "text": [
      "Initial log joint probability = -9.36042\n",
      "    Iter      log prob        ||dx||      ||grad||       alpha      alpha0  # evals  Notes \n",
      "      89       699.995     0.0014492       68.3631   1.894e-05       0.001      157  LS failed, Hessian reset \n",
      "      99       700.126     0.0011519       68.5663           1           1      169   \n",
      "    Iter      log prob        ||dx||      ||grad||       alpha      alpha0  # evals  Notes \n",
      "     199       700.193    1.0636e-05        36.853           1           1      317   \n",
      "    Iter      log prob        ||dx||      ||grad||       alpha      alpha0  # evals  Notes \n",
      "     262       700.199   8.10323e-06       54.8761   1.261e-07       0.001      445  LS failed, Hessian reset \n",
      "     279       700.199   1.72201e-08       45.5723      0.1424      0.4265      470   \n",
      "Optimization terminated normally: \n",
      "  Convergence detected: relative gradient magnitude is below tolerance\n"
     ]
    },
    {
     "name": "stderr",
     "output_type": "stream",
     "text": [
      "INFO:prophet:Disabling yearly seasonality. Run prophet with yearly_seasonality=True to override this.\n",
      "INFO:prophet:Disabling daily seasonality. Run prophet with daily_seasonality=True to override this.\n"
     ]
    },
    {
     "name": "stdout",
     "output_type": "stream",
     "text": [
      "Initial log joint probability = -9.36042\n",
      "    Iter      log prob        ||dx||      ||grad||       alpha      alpha0  # evals  Notes \n",
      "      80       700.048    0.00215535       72.5108   2.745e-05       0.001      137  LS failed, Hessian reset \n",
      "      99       700.203   5.74341e-05       48.2587           1           1      161   \n",
      "    Iter      log prob        ||dx||      ||grad||       alpha      alpha0  # evals  Notes \n",
      "     139       700.218   0.000123555       75.7318    1.78e-06       0.001      246  LS failed, Hessian reset \n",
      "     149       700.221   2.02386e-09       46.7564   4.925e-05      0.4542      267   \n",
      "Optimization terminated normally: \n",
      "  Convergence detected: absolute parameter change was below tolerance\n"
     ]
    },
    {
     "name": "stderr",
     "output_type": "stream",
     "text": [
      "INFO:prophet:Disabling yearly seasonality. Run prophet with yearly_seasonality=True to override this.\n",
      "INFO:prophet:Disabling daily seasonality. Run prophet with daily_seasonality=True to override this.\n"
     ]
    },
    {
     "name": "stdout",
     "output_type": "stream",
     "text": [
      "Initial log joint probability = -9.36042\n",
      "    Iter      log prob        ||dx||      ||grad||       alpha      alpha0  # evals  Notes \n",
      "      80       700.053    0.00228866       98.3356   3.005e-05       0.001      130  LS failed, Hessian reset \n",
      "      99       700.174   3.56185e-05       45.0745      0.1937      0.7283      155   \n",
      "    Iter      log prob        ||dx||      ||grad||       alpha      alpha0  # evals  Notes \n",
      "     196       700.203   1.10999e-06       40.3431   2.585e-08       0.001      339  LS failed, Hessian reset \n",
      "     199       700.203   1.03457e-07       42.9293      0.2006      0.8503      344   \n",
      "    Iter      log prob        ||dx||      ||grad||       alpha      alpha0  # evals  Notes \n",
      "     210       700.203    1.2463e-07       30.7887   2.238e-09       0.001      398  LS failed, Hessian reset \n",
      "Optimization terminated normally: \n",
      "  Convergence detected: relative gradient magnitude is below tolerance\n"
     ]
    },
    {
     "name": "stderr",
     "output_type": "stream",
     "text": [
      "INFO:prophet:Disabling yearly seasonality. Run prophet with yearly_seasonality=True to override this.\n",
      "INFO:prophet:Disabling daily seasonality. Run prophet with daily_seasonality=True to override this.\n"
     ]
    },
    {
     "name": "stdout",
     "output_type": "stream",
     "text": [
      "Initial log joint probability = -9.36042\n",
      "    Iter      log prob        ||dx||      ||grad||       alpha      alpha0  # evals  Notes \n",
      "      99       700.075    0.00342253       82.6716      0.6711           1      119   \n",
      "    Iter      log prob        ||dx||      ||grad||       alpha      alpha0  # evals  Notes \n",
      "     100       700.088    0.00149767       71.9821   1.812e-05       0.001      155  LS failed, Hessian reset \n",
      "     199       700.202   1.87169e-05       43.3675      0.3416     0.03416      273   \n",
      "    Iter      log prob        ||dx||      ||grad||       alpha      alpha0  # evals  Notes \n",
      "     217       700.202   1.62968e-06       52.8391    2.93e-08       0.001      347  LS failed, Hessian reset \n",
      "     228       700.202   7.82412e-11       42.5695   0.0006807       0.262      371   \n",
      "Optimization terminated normally: \n",
      "  Convergence detected: absolute parameter change was below tolerance\n"
     ]
    },
    {
     "name": "stderr",
     "output_type": "stream",
     "text": [
      "INFO:prophet:Disabling yearly seasonality. Run prophet with yearly_seasonality=True to override this.\n",
      "INFO:prophet:Disabling daily seasonality. Run prophet with daily_seasonality=True to override this.\n"
     ]
    },
    {
     "name": "stdout",
     "output_type": "stream",
     "text": [
      "Initial log joint probability = -9.36042\n",
      "    Iter      log prob        ||dx||      ||grad||       alpha      alpha0  # evals  Notes \n",
      "      99       700.078   0.000674784       83.8177      0.6505      0.6505      128   \n",
      "    Iter      log prob        ||dx||      ||grad||       alpha      alpha0  # evals  Notes \n",
      "     105       700.248    0.00115499       67.3274    1.64e-05       0.001      181  LS failed, Hessian reset \n",
      "     159       700.412   9.77207e-07       37.1071   2.571e-08       0.001      295  LS failed, Hessian reset \n",
      "     168       700.412    5.2426e-08         35.06      0.1646           1      309   \n",
      "Optimization terminated normally: \n",
      "  Convergence detected: relative gradient magnitude is below tolerance\n"
     ]
    },
    {
     "name": "stderr",
     "output_type": "stream",
     "text": [
      "INFO:prophet:Disabling yearly seasonality. Run prophet with yearly_seasonality=True to override this.\n",
      "INFO:prophet:Disabling daily seasonality. Run prophet with daily_seasonality=True to override this.\n"
     ]
    },
    {
     "name": "stdout",
     "output_type": "stream",
     "text": [
      "Initial log joint probability = -9.36042\n",
      "    Iter      log prob        ||dx||      ||grad||       alpha      alpha0  # evals  Notes \n",
      "      88       700.207    0.00187429        113.57   2.435e-05       0.001      154  LS failed, Hessian reset \n",
      "      99       700.417   0.000255457       38.6279           1           1      167   \n",
      "    Iter      log prob        ||dx||      ||grad||       alpha      alpha0  # evals  Notes \n",
      "     166       700.435   6.69879e-06       47.5225   1.282e-07       0.001      297  LS failed, Hessian reset \n",
      "     199       700.437    2.9178e-05       35.3887        2.73       0.273      345   \n",
      "    Iter      log prob        ||dx||      ||grad||       alpha      alpha0  # evals  Notes \n",
      "     214       700.437   8.73645e-08       41.5825     0.08218     0.08218      363   \n",
      "Optimization terminated normally: \n",
      "  Convergence detected: relative gradient magnitude is below tolerance\n"
     ]
    },
    {
     "name": "stderr",
     "output_type": "stream",
     "text": [
      "INFO:prophet:Disabling yearly seasonality. Run prophet with yearly_seasonality=True to override this.\n",
      "INFO:prophet:Disabling daily seasonality. Run prophet with daily_seasonality=True to override this.\n"
     ]
    },
    {
     "name": "stdout",
     "output_type": "stream",
     "text": [
      "Initial log joint probability = -9.36042\n",
      "    Iter      log prob        ||dx||      ||grad||       alpha      alpha0  # evals  Notes \n",
      "      88       700.261   0.000877791       63.5748   1.279e-05       0.001      147  LS failed, Hessian reset \n",
      "      99       700.412    0.00126534       43.7762      0.6007      0.6007      159   \n",
      "    Iter      log prob        ||dx||      ||grad||       alpha      alpha0  # evals  Notes \n",
      "     111       700.425   4.92802e-06       46.8432   1.392e-07       0.001      221  LS failed, Hessian reset \n",
      "     199       700.455   0.000136061        38.974           1           1      342   \n",
      "    Iter      log prob        ||dx||      ||grad||       alpha      alpha0  # evals  Notes \n",
      "     243        700.47   5.05152e-05       53.3735   9.976e-07       0.001      451  LS failed, Hessian reset \n",
      "     274       700.471   3.37083e-07       36.4226   6.257e-09       0.001      540  LS failed, Hessian reset \n",
      "     279       700.471    7.2013e-08         30.45           1           1      547   \n",
      "Optimization terminated normally: \n",
      "  Convergence detected: relative gradient magnitude is below tolerance\n"
     ]
    },
    {
     "name": "stderr",
     "output_type": "stream",
     "text": [
      "INFO:prophet:Disabling yearly seasonality. Run prophet with yearly_seasonality=True to override this.\n",
      "INFO:prophet:Disabling daily seasonality. Run prophet with daily_seasonality=True to override this.\n"
     ]
    },
    {
     "name": "stdout",
     "output_type": "stream",
     "text": [
      "Initial log joint probability = -9.36042\n",
      "    Iter      log prob        ||dx||      ||grad||       alpha      alpha0  # evals  Notes \n",
      "      77       700.159    0.00391211       152.804   5.822e-05       0.001      141  LS failed, Hessian reset \n",
      "      99       700.437   0.000121891       35.8101           1           1      167   \n",
      "    Iter      log prob        ||dx||      ||grad||       alpha      alpha0  # evals  Notes \n",
      "     151       700.447   3.09828e-05       42.3798   8.433e-07       0.001      286  LS failed, Hessian reset \n",
      "     182       700.448   8.78322e-08       36.0358   2.488e-09       0.001      371  LS failed, Hessian reset \n",
      "     183       700.448   6.90561e-08       31.8199           1           1      372   \n",
      "Optimization terminated normally: \n",
      "  Convergence detected: relative gradient magnitude is below tolerance\n"
     ]
    },
    {
     "name": "stderr",
     "output_type": "stream",
     "text": [
      "INFO:prophet:Disabling yearly seasonality. Run prophet with yearly_seasonality=True to override this.\n",
      "INFO:prophet:Disabling daily seasonality. Run prophet with daily_seasonality=True to override this.\n"
     ]
    },
    {
     "name": "stdout",
     "output_type": "stream",
     "text": [
      "Initial log joint probability = -9.36042\n",
      "    Iter      log prob        ||dx||      ||grad||       alpha      alpha0  # evals  Notes \n",
      "      90       700.274    0.00144964       90.6396   1.684e-05       0.001      148  LS failed, Hessian reset \n",
      "      99       700.388   0.000175257       49.8867      0.3663           1      159   \n",
      "    Iter      log prob        ||dx||      ||grad||       alpha      alpha0  # evals  Notes \n",
      "     172        700.43   1.69604e-05       59.3194   2.378e-07       0.001      299  LS failed, Hessian reset \n",
      "     199        700.43   2.08689e-07       38.7405           1           1      339   \n",
      "    Iter      log prob        ||dx||      ||grad||       alpha      alpha0  # evals  Notes \n",
      "     211        700.43   6.72949e-08       55.3307      0.2132      0.7008      355   \n",
      "Optimization terminated normally: \n",
      "  Convergence detected: relative gradient magnitude is below tolerance\n"
     ]
    },
    {
     "name": "stderr",
     "output_type": "stream",
     "text": [
      "INFO:prophet:Disabling yearly seasonality. Run prophet with yearly_seasonality=True to override this.\n",
      "INFO:prophet:Disabling daily seasonality. Run prophet with daily_seasonality=True to override this.\n"
     ]
    },
    {
     "name": "stdout",
     "output_type": "stream",
     "text": [
      "Initial log joint probability = -9.36042\n",
      "    Iter      log prob        ||dx||      ||grad||       alpha      alpha0  # evals  Notes \n",
      "      97       700.622    0.00117339       58.4616   2.348e-05       0.001      163  LS failed, Hessian reset \n",
      "      99       700.649   0.000828399       52.6574           1           1      165   \n",
      "    Iter      log prob        ||dx||      ||grad||       alpha      alpha0  # evals  Notes \n",
      "     199       700.739   7.03919e-05       35.3696           1           1      295   \n",
      "    Iter      log prob        ||dx||      ||grad||       alpha      alpha0  # evals  Notes \n",
      "     286       700.774   1.56621e-06       31.7607   5.431e-08       0.001      452  LS failed, Hessian reset \n",
      "     294       700.774   1.72838e-06       28.7447    4.71e-08       0.001      508  LS failed, Hessian reset \n",
      "     299       700.774   1.68508e-06       36.6895           1           1      515   \n",
      "    Iter      log prob        ||dx||      ||grad||       alpha      alpha0  # evals  Notes \n",
      "     304       700.774   2.36666e-07       28.1998   7.937e-09       0.001      557  LS failed, Hessian reset \n",
      "     307       700.774   8.24465e-08       22.8378      0.3308           1      561   \n",
      "Optimization terminated normally: \n",
      "  Convergence detected: relative gradient magnitude is below tolerance\n"
     ]
    },
    {
     "name": "stderr",
     "output_type": "stream",
     "text": [
      "INFO:prophet:Disabling yearly seasonality. Run prophet with yearly_seasonality=True to override this.\n",
      "INFO:prophet:Disabling daily seasonality. Run prophet with daily_seasonality=True to override this.\n"
     ]
    },
    {
     "name": "stdout",
     "output_type": "stream",
     "text": [
      "Initial log joint probability = -9.36042\n",
      "    Iter      log prob        ||dx||      ||grad||       alpha      alpha0  # evals  Notes \n",
      "      99       700.735   2.47863e-05       21.4515           1           1      130   \n",
      "    Iter      log prob        ||dx||      ||grad||       alpha      alpha0  # evals  Notes \n",
      "     199       700.755   7.98726e-06       42.8571           1           1      284   \n",
      "    Iter      log prob        ||dx||      ||grad||       alpha      alpha0  # evals  Notes \n",
      "     229       700.783    5.9239e-05       48.3479   1.849e-06       0.001      370  LS failed, Hessian reset \n",
      "     275       700.785   9.97397e-07       27.4526   3.334e-08       0.001      478  LS failed, Hessian reset \n",
      "     287       700.785    3.9789e-08       37.2598      0.2382           1      494   \n",
      "Optimization terminated normally: \n",
      "  Convergence detected: relative gradient magnitude is below tolerance\n"
     ]
    },
    {
     "name": "stderr",
     "output_type": "stream",
     "text": [
      "INFO:prophet:Disabling yearly seasonality. Run prophet with yearly_seasonality=True to override this.\n",
      "INFO:prophet:Disabling daily seasonality. Run prophet with daily_seasonality=True to override this.\n"
     ]
    },
    {
     "name": "stdout",
     "output_type": "stream",
     "text": [
      "Initial log joint probability = -9.36042\n",
      "    Iter      log prob        ||dx||      ||grad||       alpha      alpha0  # evals  Notes \n",
      "      99       700.312   0.000389118       31.9111      0.5939      0.5939      135   \n",
      "    Iter      log prob        ||dx||      ||grad||       alpha      alpha0  # evals  Notes \n",
      "     126       700.511    0.00119931       60.9485       2e-05       0.001      207  LS failed, Hessian reset \n",
      "     167       700.725   0.000244985       53.1123   4.032e-06       0.001      290  LS failed, Hessian reset \n",
      "     199       700.733   5.98156e-06       43.9365           1           1      338   \n",
      "    Iter      log prob        ||dx||      ||grad||       alpha      alpha0  # evals  Notes \n",
      "     221       700.733   1.73478e-06       40.6654     3.8e-08       0.001      403  LS failed, Hessian reset \n",
      "     230       700.733   1.92906e-07       29.9844      0.9404      0.9404      414   \n",
      "Optimization terminated normally: \n",
      "  Convergence detected: relative gradient magnitude is below tolerance\n"
     ]
    },
    {
     "name": "stderr",
     "output_type": "stream",
     "text": [
      "INFO:prophet:Disabling yearly seasonality. Run prophet with yearly_seasonality=True to override this.\n",
      "INFO:prophet:Disabling daily seasonality. Run prophet with daily_seasonality=True to override this.\n"
     ]
    },
    {
     "name": "stdout",
     "output_type": "stream",
     "text": [
      "Initial log joint probability = -9.36042\n",
      "    Iter      log prob        ||dx||      ||grad||       alpha      alpha0  # evals  Notes \n",
      "      99       700.307    0.00319091       60.9724           1           1      126   \n",
      "    Iter      log prob        ||dx||      ||grad||       alpha      alpha0  # evals  Notes \n",
      "     108       700.494    0.00149223       58.2085   2.545e-05       0.001      184  LS failed, Hessian reset \n",
      "     157        700.72   0.000508128       48.9835   8.857e-06       0.001      280  LS failed, Hessian reset \n",
      "     199       700.728   1.31721e-06       39.5593           1           1      339   \n",
      "    Iter      log prob        ||dx||      ||grad||       alpha      alpha0  # evals  Notes \n",
      "     207       700.729   1.40189e-05       39.3154   2.922e-07       0.001      389  LS failed, Hessian reset \n",
      "     262        700.73   2.42277e-07       29.4173     0.03843      0.5948      464   \n",
      "Optimization terminated normally: \n",
      "  Convergence detected: relative gradient magnitude is below tolerance\n"
     ]
    },
    {
     "name": "stderr",
     "output_type": "stream",
     "text": [
      "INFO:prophet:Disabling yearly seasonality. Run prophet with yearly_seasonality=True to override this.\n",
      "INFO:prophet:Disabling daily seasonality. Run prophet with daily_seasonality=True to override this.\n"
     ]
    },
    {
     "name": "stdout",
     "output_type": "stream",
     "text": [
      "Initial log joint probability = -9.36042\n",
      "    Iter      log prob        ||dx||      ||grad||       alpha      alpha0  # evals  Notes \n",
      "      74       700.197   0.000505445       35.4102   1.312e-05       0.001      132  LS failed, Hessian reset \n",
      "      99       700.363   0.000491893       54.7497           1           1      165   \n",
      "    Iter      log prob        ||dx||      ||grad||       alpha      alpha0  # evals  Notes \n",
      "     117       700.576     0.0018032       80.2796   2.574e-05       0.001      231  LS failed, Hessian reset \n",
      "     159       700.725   2.87136e-05       43.6629   6.634e-07       0.001      314  LS failed, Hessian reset \n",
      "     199       700.726   1.06887e-05       37.1283           1           1      380   \n",
      "    Iter      log prob        ||dx||      ||grad||       alpha      alpha0  # evals  Notes \n",
      "     299       700.743   1.36736e-05       42.2703      0.6738      0.6738      505   \n",
      "    Iter      log prob        ||dx||      ||grad||       alpha      alpha0  # evals  Notes \n",
      "     339       700.754   5.21577e-05       62.7675   1.324e-06       0.001      597  LS failed, Hessian reset \n",
      "     399       700.757   8.36172e-07       47.7967       1.654      0.3923      682   \n",
      "    Iter      log prob        ||dx||      ||grad||       alpha      alpha0  # evals  Notes \n",
      "     440       700.758   4.52874e-06       53.2627   7.158e-08       0.001      777  LS failed, Hessian reset \n",
      "     454       700.758   4.43547e-08       47.0034      0.1569           1      799   \n",
      "Optimization terminated normally: \n",
      "  Convergence detected: relative gradient magnitude is below tolerance\n"
     ]
    },
    {
     "name": "stderr",
     "output_type": "stream",
     "text": [
      "INFO:prophet:Disabling yearly seasonality. Run prophet with yearly_seasonality=True to override this.\n",
      "INFO:prophet:Disabling daily seasonality. Run prophet with daily_seasonality=True to override this.\n"
     ]
    },
    {
     "name": "stdout",
     "output_type": "stream",
     "text": [
      "Initial log joint probability = -9.36042\n",
      "    Iter      log prob        ||dx||      ||grad||       alpha      alpha0  # evals  Notes \n",
      "      99       700.825   0.000410474        46.692       0.852       0.852      128   \n",
      "    Iter      log prob        ||dx||      ||grad||       alpha      alpha0  # evals  Notes \n",
      "     199       701.048   2.68836e-06       27.1093       2.084      0.4834      264   \n",
      "    Iter      log prob        ||dx||      ||grad||       alpha      alpha0  # evals  Notes \n",
      "     222       701.048   5.41038e-07       21.7165   1.562e-08       0.001      333  LS failed, Hessian reset \n",
      "     226       701.048    9.7699e-08       25.0217           1           1      340   \n",
      "Optimization terminated normally: \n",
      "  Convergence detected: relative gradient magnitude is below tolerance\n"
     ]
    },
    {
     "name": "stderr",
     "output_type": "stream",
     "text": [
      "INFO:prophet:Disabling yearly seasonality. Run prophet with yearly_seasonality=True to override this.\n",
      "INFO:prophet:Disabling daily seasonality. Run prophet with daily_seasonality=True to override this.\n"
     ]
    },
    {
     "name": "stdout",
     "output_type": "stream",
     "text": [
      "Initial log joint probability = -9.36042\n",
      "    Iter      log prob        ||dx||      ||grad||       alpha      alpha0  # evals  Notes \n",
      "      99        701.03   0.000149601       41.9763      0.6798      0.6798      130   \n",
      "    Iter      log prob        ||dx||      ||grad||       alpha      alpha0  # evals  Notes \n",
      "     199       701.071    0.00084533       34.8965           1           1      272   \n",
      "    Iter      log prob        ||dx||      ||grad||       alpha      alpha0  # evals  Notes \n",
      "     289       701.075   4.59121e-06       29.0149   9.994e-08       0.001      436  LS failed, Hessian reset \n",
      "     299       701.075   1.04798e-07       30.2644           1           1      451   \n",
      "    Iter      log prob        ||dx||      ||grad||       alpha      alpha0  # evals  Notes \n",
      "     317       701.075   1.07856e-07       22.9148           1           1      477   \n",
      "Optimization terminated normally: \n",
      "  Convergence detected: relative gradient magnitude is below tolerance\n"
     ]
    },
    {
     "name": "stderr",
     "output_type": "stream",
     "text": [
      "INFO:prophet:Disabling yearly seasonality. Run prophet with yearly_seasonality=True to override this.\n",
      "INFO:prophet:Disabling daily seasonality. Run prophet with daily_seasonality=True to override this.\n"
     ]
    },
    {
     "name": "stdout",
     "output_type": "stream",
     "text": [
      "Initial log joint probability = -9.36042\n",
      "    Iter      log prob        ||dx||      ||grad||       alpha      alpha0  # evals  Notes \n",
      "      99       700.643    0.00157798       44.1429           1           1      118   \n",
      "    Iter      log prob        ||dx||      ||grad||       alpha      alpha0  # evals  Notes \n",
      "     199       701.046    4.7439e-05       43.3756      0.3971           1      257   \n",
      "    Iter      log prob        ||dx||      ||grad||       alpha      alpha0  # evals  Notes \n",
      "     235       701.051   8.14224e-06        26.556   2.239e-07       0.001      349  LS failed, Hessian reset \n",
      "     299       701.053   4.03407e-07        39.547       2.328     0.02328      437   \n",
      "    Iter      log prob        ||dx||      ||grad||       alpha      alpha0  # evals  Notes \n",
      "     324       701.053   1.08112e-06       52.8833   2.348e-08       0.001      505  LS failed, Hessian reset \n",
      "     335       701.053    4.2047e-08       33.2965      0.1682      0.6253      520   \n",
      "Optimization terminated normally: \n",
      "  Convergence detected: relative gradient magnitude is below tolerance\n"
     ]
    },
    {
     "name": "stderr",
     "output_type": "stream",
     "text": [
      "INFO:prophet:Disabling yearly seasonality. Run prophet with yearly_seasonality=True to override this.\n",
      "INFO:prophet:Disabling daily seasonality. Run prophet with daily_seasonality=True to override this.\n"
     ]
    },
    {
     "name": "stdout",
     "output_type": "stream",
     "text": [
      "Initial log joint probability = -9.36042\n",
      "    Iter      log prob        ||dx||      ||grad||       alpha      alpha0  # evals  Notes \n",
      "      94       700.878     0.0055272        116.55    0.000101       0.001      141  LS failed, Hessian reset \n",
      "      99       701.003    0.00298142       69.8241           1           1      146   \n",
      "    Iter      log prob        ||dx||      ||grad||       alpha      alpha0  # evals  Notes \n",
      "     183        701.06   1.76447e-05       37.1071   4.518e-07       0.001      305  LS failed, Hessian reset \n",
      "     199       701.061   1.57811e-07       33.2357      0.8512      0.8512      328   \n",
      "    Iter      log prob        ||dx||      ||grad||       alpha      alpha0  # evals  Notes \n",
      "     213       701.061   6.24508e-08       28.5625      0.2433           1      352   \n",
      "Optimization terminated normally: \n",
      "  Convergence detected: relative gradient magnitude is below tolerance\n"
     ]
    },
    {
     "name": "stderr",
     "output_type": "stream",
     "text": [
      "INFO:prophet:Disabling yearly seasonality. Run prophet with yearly_seasonality=True to override this.\n",
      "INFO:prophet:Disabling daily seasonality. Run prophet with daily_seasonality=True to override this.\n"
     ]
    },
    {
     "name": "stdout",
     "output_type": "stream",
     "text": [
      "Initial log joint probability = -9.36042\n",
      "    Iter      log prob        ||dx||      ||grad||       alpha      alpha0  # evals  Notes \n",
      "      99       700.532   0.000116349       47.0634      0.5953      0.5953      118   \n",
      "    Iter      log prob        ||dx||      ||grad||       alpha      alpha0  # evals  Notes \n",
      "     113       700.804    0.00176641        110.73    2.23e-05       0.001      171  LS failed, Hessian reset \n",
      "     199       701.056   7.89369e-06       47.8163      0.7596      0.7596      277   \n",
      "    Iter      log prob        ||dx||      ||grad||       alpha      alpha0  # evals  Notes \n",
      "     202       701.056   6.63304e-06       41.9064   1.339e-07       0.001      318  LS failed, Hessian reset \n",
      "     225       701.056   9.77328e-09       38.4334     0.09208     0.09208      350   \n",
      "Optimization terminated normally: \n",
      "  Convergence detected: absolute parameter change was below tolerance\n",
      "the best parameters are (0.08000000000000002, 26), for a MAPE of 0.3104120894312113 on validation set\n"
     ]
    }
   ],
   "source": [
    "# hyperparameters\n",
    "changepoint_prior_scale = [i for i in np.arange(0.05,0.1,0.01)]\n",
    "n_changepoints = [i for i in range(25,30,1)]\n",
    "\n",
    "mini = np.inf\n",
    "for i in changepoint_prior_scale:\n",
    "    for j in n_changepoints:\n",
    "        \n",
    "        m = ProphetModel(i, j)\n",
    "        m.fit(train)\n",
    "        preds = m.predict(val)\n",
    "        \n",
    "        prophet_metrics = compute_metrics(val['y'], preds)[2]\n",
    "        \n",
    "        if prophet_metrics<mini:\n",
    "            mini = prophet_metrics\n",
    "            best_params_prophet = (i,j)\n",
    "            \n",
    "print(f'the best parameters are {best_params_prophet}, for a MAPE of {mini} on validation set')"
   ]
  },
  {
   "cell_type": "markdown",
   "id": "936698a4",
   "metadata": {},
   "source": [
    "#### XGBoost"
   ]
  },
  {
   "cell_type": "code",
   "execution_count": 49,
   "id": "edfc1d73",
   "metadata": {},
   "outputs": [
    {
     "name": "stdout",
     "output_type": "stream",
     "text": [
      "the best parameters are (5, 5), for a MAPE of 0.3453805667957237 on validation set\n"
     ]
    }
   ],
   "source": [
    "# hyperparameters\n",
    "n_estimators = [i for i in range(5, 100, 10)]\n",
    "max_depth = [i for i in range(2, 50, 3)]\n",
    "\n",
    "mini = np.inf\n",
    "for n in n_estimators:\n",
    "    for m in max_depth:\n",
    "        \n",
    "        model = XGBModel(n, m)\n",
    "        model.fit(train)\n",
    "        preds = model.predict(val)\n",
    "        \n",
    "        xgb_metrics = compute_metrics(val['y'], preds)[2]\n",
    "        \n",
    "        if xgb_metrics<mini:\n",
    "            mini = xgb_metrics\n",
    "            best_params_xgb = (n, m)\n",
    "            \n",
    "print(f'the best parameters are {best_params_xgb}, for a MAPE of {mini} on validation set')"
   ]
  },
  {
   "cell_type": "markdown",
   "id": "762c316a",
   "metadata": {},
   "source": [
    "#### Random Forest"
   ]
  },
  {
   "cell_type": "code",
   "execution_count": 50,
   "id": "646c3ed6",
   "metadata": {},
   "outputs": [
    {
     "name": "stdout",
     "output_type": "stream",
     "text": [
      "the best parameters are (5, 5), for a MAPE of 0.3635079749044995 on validation set\n"
     ]
    }
   ],
   "source": [
    "# hyperparameters\n",
    "n_estimators = [i for i in range(5, 100, 10)]\n",
    "max_depth = [i for i in range(2, 50, 3)]\n",
    "\n",
    "mini = np.inf\n",
    "for n in n_estimators:\n",
    "    for m in max_depth:\n",
    "        \n",
    "        model = RFModel(n, m)\n",
    "        model.fit(train)\n",
    "        preds = model.predict(val)\n",
    "        \n",
    "        rf_metrics = compute_metrics(val['y'], preds)[2]\n",
    "        \n",
    "        if rf_metrics<mini:\n",
    "            mini = rf_metrics\n",
    "            best_params_rf = (n, m)\n",
    "            \n",
    "print(f'the best parameters are {best_params_rf}, for a MAPE of {mini} on validation set')"
   ]
  },
  {
   "cell_type": "markdown",
   "id": "3cd20911",
   "metadata": {},
   "source": [
    "#### Ridge regression"
   ]
  },
  {
   "cell_type": "code",
   "execution_count": 51,
   "id": "b27a8de1",
   "metadata": {},
   "outputs": [],
   "source": [
    "from sklearn.linear_model import LinearRegression, Ridge\n",
    "from sklearn.model_selection import RepeatedKFold, GridSearchCV\n",
    "class ridge:\n",
    "    \n",
    "    def __init__(self, alpha = 0):\n",
    "        self.model = Ridge(alpha = alpha)\n",
    "        \n",
    "    def fit(self, train):\n",
    "        X_train, y_train = train.drop(['y','ds'], axis=1), train['y']\n",
    "        self.model = self.model.fit(X_train, y_train)\n",
    "    \n",
    "    def predict(self, test):\n",
    "        X_test = test.drop(['y','ds'], axis=1)\n",
    "        preds = self.model.predict(X_test)\n",
    "        \n",
    "        return preds"
   ]
  },
  {
   "cell_type": "code",
   "execution_count": 54,
   "id": "f6ac0ff7",
   "metadata": {},
   "outputs": [
    {
     "name": "stdout",
     "output_type": "stream",
     "text": [
      "the best parameters are 0.01, for a MAPE of 0.36425537885813725 on validation set\n"
     ]
    }
   ],
   "source": [
    "# hyperparameters\n",
    "alpha = [i for i in np.arange(0,0.1,0.01)]\n",
    "\n",
    "mini = np.inf\n",
    "for a in alpha:\n",
    "        \n",
    "    m = ridge(a)\n",
    "    m.fit(train)\n",
    "    preds = m.predict(val)\n",
    "        \n",
    "    lin_metrics = compute_metrics(val['y'], preds)[2]\n",
    "        \n",
    "    if lin_metrics<mini:\n",
    "        mini = lin_metrics\n",
    "        best_params_ridge = a\n",
    "\n",
    "print(f'the best parameters are {best_params_ridge}, for a MAPE of {mini} on validation set')"
   ]
  },
  {
   "cell_type": "markdown",
   "id": "52d0a072",
   "metadata": {},
   "source": [
    "### Train best models"
   ]
  },
  {
   "cell_type": "code",
   "execution_count": 55,
   "id": "5d08c47e",
   "metadata": {},
   "outputs": [
    {
     "name": "stderr",
     "output_type": "stream",
     "text": [
      "INFO:prophet:Disabling yearly seasonality. Run prophet with yearly_seasonality=True to override this.\n",
      "INFO:prophet:Disabling daily seasonality. Run prophet with daily_seasonality=True to override this.\n"
     ]
    },
    {
     "name": "stdout",
     "output_type": "stream",
     "text": [
      "For Linear Model, RMSE=14694.263007248068 and MAPE=0.30643060536752154 on test set\n",
      "Initial log joint probability = -15.3155\n",
      "    Iter      log prob        ||dx||      ||grad||       alpha      alpha0  # evals  Notes \n",
      "      99        814.84    0.00105122       48.3363      0.4964      0.4964      131   \n",
      "    Iter      log prob        ||dx||      ||grad||       alpha      alpha0  # evals  Notes \n",
      "     101       814.851    0.00027304       46.4986   4.992e-06       0.001      166  LS failed, Hessian reset \n",
      "     199       814.859    1.7922e-06       54.4627      0.6119      0.6119      291   \n",
      "    Iter      log prob        ||dx||      ||grad||       alpha      alpha0  # evals  Notes \n",
      "     205       814.859   7.20411e-06       58.7361   1.706e-07       0.001      338  LS failed, Hessian reset \n",
      "     232        814.86   2.79462e-08       44.6126      0.1671      0.6144      374   \n",
      "Optimization terminated normally: \n",
      "  Convergence detected: relative gradient magnitude is below tolerance\n",
      "For Prophet, RMSE=14559.697596052769 and MAPE=0.3063871715081978 on test set\n",
      "For XGBoost, RMSE=21787.874113675913 and MAPE=0.34806783803593555 on test set\n",
      "For Random Forest, RMSE=21787.874113675913 and MAPE=0.34806783803593555 on test set\n",
      "For Random Forest, RMSE=17879.193238196265 and MAPE=0.3085724403593951 on test set\n"
     ]
    }
   ],
   "source": [
    "lin = LinModel(best_params_lin[0], best_params_lin[1])\n",
    "lin.fit(train)\n",
    "lin_preds = lin.predict(test)\n",
    "lin_metrics = compute_metrics(test['y'], lin_preds)\n",
    "print(f'For Linear Model, RMSE={lin_metrics[0]} and MAPE={lin_metrics[2]} on test set')\n",
    "\n",
    "\n",
    "prophet = ProphetModel(best_params_prophet[0], best_params_prophet[1])\n",
    "prophet.fit(dev)\n",
    "prophet_preds = prophet.predict(test)\n",
    "prophet_metrics = compute_metrics(test['y'], prophet_preds)\n",
    "print(f'For Prophet, RMSE={prophet_metrics[0]} and MAPE={prophet_metrics[2]} on test set')\n",
    "\n",
    "xgb = XGBModel(best_params_xgb[0], best_params_xgb[1])\n",
    "xgb.fit(dev)\n",
    "xgb_preds = xgb.predict(test)\n",
    "xgb_metrics = compute_metrics(test['y'], xgb_preds)\n",
    "print(f'For XGBoost, RMSE={xgb_metrics[0]} and MAPE={xgb_metrics[2]} on test set')\n",
    "\n",
    "rf = RFModel(best_params_rf[0], best_params_rf[1])\n",
    "rf.fit(dev)\n",
    "rf_preds = rf.predict(test)\n",
    "rf_metrics = compute_metrics(test['y'], rf_preds)\n",
    "print(f'For Random Forest, RMSE={xgb_metrics[0]} and MAPE={xgb_metrics[2]} on test set')\n",
    "\n",
    "ridge = ridge(best_params_ridge)\n",
    "ridge.fit(dev)\n",
    "ridge_preds = rf.predict(test)\n",
    "ridge_metrics = compute_metrics(test['y'], rf_preds)\n",
    "print(f'For Random Forest, RMSE={ridge_metrics[0]} and MAPE={ridge_metrics[2]} on test set')"
   ]
  },
  {
   "cell_type": "code",
   "execution_count": 78,
   "id": "87ab80a7",
   "metadata": {},
   "outputs": [
    {
     "data": {
      "text/plain": [
       "<matplotlib.legend.Legend at 0x7f7ffbf8b580>"
      ]
     },
     "execution_count": 78,
     "metadata": {},
     "output_type": "execute_result"
    },
    {
     "data": {
      "image/png": "[encoded data removed]",
      "text/plain": [
       "<Figure size 720x720 with 1 Axes>"
      ]
     },
     "metadata": {
      "needs_background": "light"
     },
     "output_type": "display_data"
    }
   ],
   "source": [
    "plt.rcParams[\"figure.figsize\"] = (10,10)\n",
    "plt.plot(test['ds'], test['y'], label='Real values')\n",
    "plt.plot(test['ds'], lin_preds, label=f'Linear Model predictions, MAPE={lin_metrics[2]:.3f}')\n",
    "plt.plot(test['ds'], prophet_preds, label=f'Prophet predictions, MAPE={prophet_metrics[2]:.3f}')\n",
    "plt.plot(test['ds'], xgb_preds, label=f'XGBoost predictions, MAPE={xgb_metrics[2]:.3f}')\n",
    "plt.plot(test['ds'], rf_preds, label=f'Random Forest predictions, MAPE={rf_metrics[2]:.3f}')\n",
    "plt.plot(test['ds'], ridge_preds, label=f'Ridge predictions, MAPE={ridge_metrics[2]:.3f}')\n",
    "\n",
    "plt.title('Predictions on test set')\n",
    "plt.ylabel('Daily Sales')\n",
    "plt.xlabel('Date')\n",
    "plt.grid()\n",
    "plt.legend()"
   ]
  },
  {
   "cell_type": "markdown",
   "id": "5d448e65",
   "metadata": {},
   "source": [
    "## V Observe MAPE over time"
   ]
  },
  {
   "cell_type": "code",
   "execution_count": 82,
   "id": "ef20cb1b",
   "metadata": {},
   "outputs": [
    {
     "data": {
      "text/plain": [
       "<matplotlib.legend.Legend at 0x7f7fdd2e7820>"
      ]
     },
     "execution_count": 82,
     "metadata": {},
     "output_type": "execute_result"
    },
    {
     "data": {
      "image/png": "[encoded data removed]",
      "text/plain": [
       "<Figure size 720x720 with 1 Axes>"
      ]
     },
     "metadata": {
      "needs_background": "light"
     },
     "output_type": "display_data"
    }
   ],
   "source": [
    "# MAPE over time\n",
    "n = 3\n",
    "preds = xgb_preds # change this line to switch model\n",
    "time_range = len(test['y'])//n\n",
    "mape_overtime_lin = []\n",
    "mape_overtime_prophet = []\n",
    "mape_overtime_xgb = []\n",
    "mape_overtime_rf = []\n",
    "mape_overtime_ridge = []\n",
    "\n",
    "for i in range(n):\n",
    "    mape_overtime_lin.append(compute_metrics(test['y'][time_range*i:time_range*(i+1)], lin_preds[time_range*i:time_range*(i+1)])[2])\n",
    "    mape_overtime_prophet.append(compute_metrics(test['y'][time_range*i:time_range*(i+1)], prophet_preds[time_range*i:time_range*(i+1)])[2])\n",
    "    mape_overtime_xgb.append(compute_metrics(test['y'][time_range*i:time_range*(i+1)], xgb_preds[time_range*i:time_range*(i+1)])[2])\n",
    "    mape_overtime_rf.append(compute_metrics(test['y'][time_range*i:time_range*(i+1)], rf_preds[time_range*i:time_range*(i+1)])[2])\n",
    "    mape_overtime_ridge.append(compute_metrics(test['y'][time_range*i:time_range*(i+1)], ridge_preds[time_range*i:time_range*(i+1)])[2])\n",
    "#print([round(x, 3) for x in mape_overtime])\n",
    "    \n",
    "plt.plot(np.arange(0,n,1), mape_overtime_lin)\n",
    "plt.plot(np.arange(0,n,1), mape_overtime_lin, label='Linear Model')\n",
    "plt.plot(np.arange(0,n,1), mape_overtime_prophet, label='Prophet')\n",
    "plt.plot(np.arange(0,n,1), mape_overtime_xgb, label='XGBoost')\n",
    "plt.plot(np.arange(0,n,1), mape_overtime_rf, label='Random Forest')\n",
    "plt.plot(np.arange(0,n,1), mape_overtime_ridge, label='Ridge')\n",
    "plt.title('MAPE overtime')\n",
    "plt.ylabel('MAPE')\n",
    "plt.xlabel('')\n",
    "plt.xticks(np.arange(0,n,1), ['1st 40-day', '2nd 40-day', '3rd 40-day'])\n",
    "\n",
    "plt.grid()\n",
    "plt.legend()"
   ]
  },
  {
   "cell_type": "code",
   "execution_count": 65,
   "id": "5496b380",
   "metadata": {},
   "outputs": [
    {
     "data": {
      "text/plain": [
       "[0.385, 0.312, 0.217]"
      ]
     },
     "execution_count": 65,
     "metadata": {},
     "output_type": "execute_result"
    }
   ],
   "source": [
    "print([round(x, 3) for x in mape_overtime])"
   ]
  }
 ],
 "metadata": {
  "kernelspec": {
   "display_name": "Python 3 (ipykernel)",
   "language": "python",
   "name": "python3"
  },
  "language_info": {
   "codemirror_mode": {
    "name": "ipython",
    "version": 3
   },
   "file_extension": ".py",
   "mimetype": "text/x-python",
   "name": "python",
   "nbconvert_exporter": "python",
   "pygments_lexer": "ipython3",
   "version": "3.9.7"
  }
 },
 "nbformat": 4,
 "nbformat_minor": 5
}
