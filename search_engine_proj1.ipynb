{
 "cells": [
  {
   "cell_type": "code",
   "execution_count": 1,
   "id": "b72b64b1",
   "metadata": {},
   "outputs": [],
   "source": [
    "import pandas as pd\n",
    "from nltk import word_tokenize"
   ]
  },
  {
   "cell_type": "code",
   "execution_count": 2,
   "id": "f4304c5a",
   "metadata": {},
   "outputs": [],
   "source": [
    "df1 = pd.read_excel('online_retail_II.xlsx', sheet_name='Year 2009-2010')\n",
    "df2 = pd.read_excel('online_retail_II.xlsx', sheet_name='Year 2010-2011')\n",
    "\n",
    "data = pd.concat([df1, df2])\n",
    "data.to_csv('data_all.csv', index=True, header=True)"
   ]
  },
  {
   "cell_type": "code",
   "execution_count": 3,
   "id": "66d37357",
   "metadata": {},
   "outputs": [],
   "source": [
    "df_des = pd.read_csv(\"data_all.csv\", usecols = ['Description'])\n",
    "df_des['word_token'] = \"\"\n",
    "\n",
    "df_all = pd.read_csv(\"data_all.csv\")"
   ]
  },
  {
   "cell_type": "code",
   "execution_count": 4,
   "id": "91fab178",
   "metadata": {},
   "outputs": [],
   "source": [
    "for i in range(len(df_des)):\n",
    "    try:\n",
    "        token_des = word_tokenize(df_des['Description'].values[i])\n",
    "    except:\n",
    "        token_des = \"\"\n",
    "    df_des.at[i, 'word_token'] = token_des\n",
    "\n",
    "#df_des.to_csv('des_token.csv')"
   ]
  },
  {
   "cell_type": "code",
   "execution_count": 7,
   "id": "f434ba54",
   "metadata": {},
   "outputs": [],
   "source": [
    "search_query = 'LIGHTS' # can be changed to other things\n",
    "token_index = []\n",
    "\n",
    "for j in range(len(df_des)):\n",
    "    if search_query in df_des.at[j, 'word_token']:\n",
    "        token_index.append(j)\n",
    "        \n",
    "df_query = df_all.loc[token_index, :]"
   ]
  },
  {
   "cell_type": "code",
   "execution_count": 8,
   "id": "1e34fdac",
   "metadata": {},
   "outputs": [],
   "source": [
    "df_query.to_csv(f'query_{search_query}.csv')"
   ]
  },
  {
   "cell_type": "code",
   "execution_count": null,
   "id": "cb9f6a4b",
   "metadata": {},
   "outputs": [],
   "source": []
  },
  {
   "cell_type": "code",
   "execution_count": null,
   "id": "a370b04a",
   "metadata": {},
   "outputs": [],
   "source": []
  },
  {
   "cell_type": "code",
   "execution_count": null,
   "id": "e56c52ee",
   "metadata": {},
   "outputs": [],
   "source": []
  }
 ],
 "metadata": {
  "kernelspec": {
   "display_name": "Python 3 (ipykernel)",
   "language": "python",
   "name": "python3"
  },
  "language_info": {
   "codemirror_mode": {
    "name": "ipython",
    "version": 3
   },
   "file_extension": ".py",
   "mimetype": "text/x-python",
   "name": "python",
   "nbconvert_exporter": "python",
   "pygments_lexer": "ipython3",
   "version": "3.9.12"
  }
 },
 "nbformat": 4,
 "nbformat_minor": 5
}
